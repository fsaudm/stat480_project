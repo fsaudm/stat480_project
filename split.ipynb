{
 "cells": [
  {
   "cell_type": "code",
   "execution_count": 1,
   "metadata": {},
   "outputs": [],
   "source": [
    "import pandas as pd\n",
    "import numpy as np"
   ]
  },
  {
   "cell_type": "code",
   "execution_count": 2,
   "metadata": {},
   "outputs": [
    {
     "name": "stdout",
     "output_type": "stream",
     "text": [
      "<class 'pandas.core.frame.DataFrame'>\n",
      "RangeIndex: 889930 entries, 0 to 889929\n",
      "Data columns (total 48 columns):\n",
      " #   Column                         Non-Null Count   Dtype  \n",
      "---  ------                         --------------   -----  \n",
      " 0   CRASH_RECORD_ID                889930 non-null  object \n",
      " 1   CRASH_DATE_EST_I               65794 non-null   object \n",
      " 2   CRASH_DATE                     889930 non-null  object \n",
      " 3   POSTED_SPEED_LIMIT             889930 non-null  int64  \n",
      " 4   TRAFFIC_CONTROL_DEVICE         889930 non-null  object \n",
      " 5   DEVICE_CONDITION               889930 non-null  object \n",
      " 6   WEATHER_CONDITION              889930 non-null  object \n",
      " 7   LIGHTING_CONDITION             889930 non-null  object \n",
      " 8   FIRST_CRASH_TYPE               889930 non-null  object \n",
      " 9   TRAFFICWAY_TYPE                889930 non-null  object \n",
      " 10  LANE_CNT                       199019 non-null  float64\n",
      " 11  ALIGNMENT                      889930 non-null  object \n",
      " 12  ROADWAY_SURFACE_COND           889930 non-null  object \n",
      " 13  ROAD_DEFECT                    889930 non-null  object \n",
      " 14  REPORT_TYPE                    862434 non-null  object \n",
      " 15  CRASH_TYPE                     889930 non-null  object \n",
      " 16  INTERSECTION_RELATED_I         204225 non-null  object \n",
      " 17  NOT_RIGHT_OF_WAY_I             40582 non-null   object \n",
      " 18  HIT_AND_RUN_I                  279117 non-null  object \n",
      " 19  DAMAGE                         889930 non-null  object \n",
      " 20  DATE_POLICE_NOTIFIED           889930 non-null  object \n",
      " 21  PRIM_CONTRIBUTORY_CAUSE        889930 non-null  object \n",
      " 22  SEC_CONTRIBUTORY_CAUSE         889930 non-null  object \n",
      " 23  STREET_NO                      889930 non-null  int64  \n",
      " 24  STREET_DIRECTION               889926 non-null  object \n",
      " 25  STREET_NAME                    889929 non-null  object \n",
      " 26  BEAT_OF_OCCURRENCE             889925 non-null  float64\n",
      " 27  PHOTOS_TAKEN_I                 12147 non-null   object \n",
      " 28  STATEMENTS_TAKEN_I             20452 non-null   object \n",
      " 29  DOORING_I                      2825 non-null    object \n",
      " 30  WORK_ZONE_I                    4994 non-null    object \n",
      " 31  WORK_ZONE_TYPE                 3860 non-null    object \n",
      " 32  WORKERS_PRESENT_I              1286 non-null    object \n",
      " 33  NUM_UNITS                      889930 non-null  int64  \n",
      " 34  MOST_SEVERE_INJURY             887952 non-null  object \n",
      " 35  INJURIES_TOTAL                 887966 non-null  float64\n",
      " 36  INJURIES_FATAL                 887966 non-null  float64\n",
      " 37  INJURIES_INCAPACITATING        887966 non-null  float64\n",
      " 38  INJURIES_NON_INCAPACITATING    887966 non-null  float64\n",
      " 39  INJURIES_REPORTED_NOT_EVIDENT  887966 non-null  float64\n",
      " 40  INJURIES_NO_INDICATION         887966 non-null  float64\n",
      " 41  INJURIES_UNKNOWN               887966 non-null  float64\n",
      " 42  CRASH_HOUR                     889930 non-null  int64  \n",
      " 43  CRASH_DAY_OF_WEEK              889930 non-null  int64  \n",
      " 44  CRASH_MONTH                    889930 non-null  int64  \n",
      " 45  LATITUDE                       883544 non-null  float64\n",
      " 46  LONGITUDE                      883544 non-null  float64\n",
      " 47  LOCATION                       883544 non-null  object \n",
      "dtypes: float64(11), int64(6), object(31)\n",
      "memory usage: 325.9+ MB\n"
     ]
    }
   ],
   "source": [
    "df = pd.read_csv(\"data/Traffic_Crashes_-_Crashes_20241105.csv\")\n",
    "df.info()"
   ]
  },
  {
   "cell_type": "code",
   "execution_count": 5,
   "metadata": {},
   "outputs": [],
   "source": [
    "splits = np.array_split(df, 5)"
   ]
  },
  {
   "cell_type": "code",
   "execution_count": 6,
   "metadata": {},
   "outputs": [],
   "source": [
    "# Save each part to a separate CSV file\n",
    "for i, split in enumerate(splits):\n",
    "    split.to_csv(f\"data/split_{i+1}.csv\", index=False)"
   ]
  },
  {
   "cell_type": "code",
   "execution_count": 7,
   "metadata": {},
   "outputs": [
    {
     "name": "stdout",
     "output_type": "stream",
     "text": [
      "Part 1: 177986 rows\n",
      "Part 2: 177986 rows\n",
      "Part 3: 177986 rows\n",
      "Part 4: 177986 rows\n",
      "Part 5: 177986 rows\n",
      "Sum of splits: 889930\n",
      "Original length: 889930\n"
     ]
    }
   ],
   "source": [
    "# Length of each split\n",
    "for i, split in enumerate(splits):\n",
    "    print(f\"Part {i+1}: {len(split)} rows\")\n",
    "\n",
    "print(\"Sum of splits:\", sum(len(split) for split in splits))\n",
    "print(\"Original length:\", len(df))"
   ]
  }
 ],
 "metadata": {
  "kernelspec": {
   "display_name": "Python 3",
   "language": "python",
   "name": "python3"
  },
  "language_info": {
   "codemirror_mode": {
    "name": "ipython",
    "version": 3
   },
   "file_extension": ".py",
   "mimetype": "text/x-python",
   "name": "python",
   "nbconvert_exporter": "python",
   "pygments_lexer": "ipython3",
   "version": "3.11.2"
  }
 },
 "nbformat": 4,
 "nbformat_minor": 2
}
